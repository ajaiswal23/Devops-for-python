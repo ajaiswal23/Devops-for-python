{
  "nbformat": 4,
  "nbformat_minor": 0,
  "metadata": {
    "colab": {
      "provenance": [],
      "toc_visible": true,
      "authorship_tag": "ABX9TyMxMxP2P/2q7rYq9eSzQMk/",
      "include_colab_link": true
    },
    "kernelspec": {
      "name": "python3",
      "display_name": "Python 3"
    },
    "language_info": {
      "name": "python"
    }
  },
  "cells": [
    {
      "cell_type": "markdown",
      "metadata": {
        "id": "view-in-github",
        "colab_type": "text"
      },
      "source": [
        "<a href=\"https://colab.research.google.com/github/ajaiswal23/python-for-devops/blob/main/getting_started_python_devops.ipynb\" target=\"_parent\"><img src=\"https://colab.research.google.com/assets/colab-badge.svg\" alt=\"Open In Colab\"/></a>"
      ]
    },
    {
      "cell_type": "code",
      "execution_count": 1,
      "metadata": {
        "id": "JuRHG0tyGkqn",
        "outputId": "8a98ab49-ecc2-4096-e928-125088c028a4",
        "colab": {
          "base_uri": "https://localhost:8080/"
        }
      },
      "outputs": [
        {
          "output_type": "stream",
          "name": "stdout",
          "text": [
            "Devops for python\n"
          ]
        }
      ],
      "source": [
        "print(\"Devops for python\")"
      ]
    },
    {
      "cell_type": "markdown",
      "source": [
        "# Random statement in python\n"
      ],
      "metadata": {
        "id": "yHv7ypRAa8ai"
      }
    },
    {
      "cell_type": "markdown",
      "source": [
        "\n",
        "\n",
        "\\# This is just to learn how to work with CI/CD pipeline, the code in the document doesn't matter"
      ],
      "metadata": {
        "id": "82L7WswJZPq1"
      }
    },
    {
      "cell_type": "code",
      "source": [
        "meal = {\"breakfast\": \"double shot latte\", \"lunch\": \"chicken sandwitch\", \"dinner\": \"biryani\"}"
      ],
      "metadata": {
        "id": "xKdMM_gMWkID"
      },
      "execution_count": 2,
      "outputs": []
    },
    {
      "cell_type": "code",
      "source": [
        "for meal_name, meal_item in meal.items():\n",
        "  print(f\"At {meal_name} I really like to eat {meal_item}\")"
      ],
      "metadata": {
        "id": "i7d0aRc3WkNj",
        "outputId": "7781fccd-b6aa-4926-86a4-df9b465f2a0a",
        "colab": {
          "base_uri": "https://localhost:8080/"
        }
      },
      "execution_count": 3,
      "outputs": [
        {
          "output_type": "stream",
          "name": "stdout",
          "text": [
            "At breakfast I really like to eat double shot latte\n",
            "At lunch I really like to eat chicken sandwitch\n",
            "At dinner I really like to eat biryani\n"
          ]
        }
      ]
    }
  ]
}